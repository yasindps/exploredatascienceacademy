{
  "nbformat": 4,
  "nbformat_minor": 0,
  "metadata": {
    "colab": {
      "name": "Project_Student.ipynb",
      "version": "0.3.2",
      "provenance": [],
      "collapsed_sections": []
    },
    "kernelspec": {
      "display_name": "Python 3",
      "language": "python",
      "name": "python3"
    }
  },
  "cells": [
    {
      "metadata": {
        "id": "Y-iHJCekZ47N",
        "colab_type": "text"
      },
      "cell_type": "markdown",
      "source": [
        "# Project: Python Fundamentals\n",
        "\n",
        "You're appointed as a Software Developer at a new Development agency, \n",
        "\n",
        "In this project, you'll create software to give your clients financial advice."
      ]
    },
    {
      "metadata": {
        "id": "4OBoq2YHkZjj",
        "colab_type": "text"
      },
      "cell_type": "markdown",
      "source": [
        "***\n",
        "*** CODE OF CONDUCT: ***\n",
        "\n",
        "- You may use online resources for help, but you may not directly copy and paste any answers that are not your own.\n",
        "- You may not submit anyone else's work, but your own.\n",
        "- Every project will be sent through plagiarism detection software, and compared with every other project in the class.  If you are suspected of plagiarism you will receive zero for the assignment, together with a first disciplinary warning.\n",
        "\n",
        "***\n",
        "*** PROJECT RULES: ***\n",
        "\n",
        "- You may not import any external packages - all of the functions need to be solved ***WITHOUT THE USE OF EXTERNAL MODULES***.\n",
        "- ***Most importantly:*** your functions need to **`return`** the answer (not just print it out).\n",
        "- ***Do not add or remove any cells from this notebook***.  Use another notebook to experiment in (or in which to do your workings), but your submission may not have any additional cells or functions. \n",
        "- Only fill in code where the **`#YOUR CODE`**  tags appear. No code outside these areas (or outside the given functions) will be marked.\n",
        "\n"
      ]
    },
    {
      "metadata": {
        "id": "53GUiWszhw9R",
        "colab_type": "text"
      },
      "cell_type": "markdown",
      "source": [
        "## Function 1:  Savings Calculator\n",
        "\n",
        "Build a function **`savings_calculator(PMT, n, i)`**` that calculates your customer's savings at retirement, if they:\n",
        "- invest an amount, **`PMT`** at the end of every year (with the first payment in exactly one year's time from now),\n",
        "- for **`n` whole years**\n",
        "- at an interest rate of **`i`**% per year, compounded annually."
      ]
    },
    {
      "metadata": {
        "id": "o3HGpkBGZZcN",
        "colab_type": "code",
        "colab": {}
      },
      "cell_type": "code",
      "source": [
        "### START FUNCTION 1\n",
        "\n",
        "def savings_calculator(PMT, n, i):\n",
        "    \n",
        "    # YOUR CODE HERE\n",
        "    FV=PMT*(((1+i)**(n)-1)/i)\n",
        "    # Remember to round your answer to 2 decimal places:\n",
        "    FV = round(FV, 2)\n",
        "\n",
        "    return FV\n",
        "\n",
        "### END FUNCTION 1"
      ],
      "execution_count": 0,
      "outputs": []
    },
    {
      "metadata": {
        "id": "0Hhs61WVkVfN",
        "colab_type": "text"
      },
      "cell_type": "markdown",
      "source": [
        "***IMPORTANT***: <br>\n",
        "Your function needs to **`return`** an `float` value ***rounded to 2 decimal places***.\n",
        "\n",
        "If your answer is not rounded correctly to 2 decimal places, you will receive 0 for the question.\n",
        "\n",
        "Make sure that the following tests all give a `True` result:"
      ]
    },
    {
      "metadata": {
        "id": "eAPFgCVAj7JQ",
        "colab_type": "code",
        "colab": {
          "base_uri": "https://localhost:8080/",
          "height": 34
        },
        "outputId": "a8a0a7be-cc83-411a-d5b4-481f24462983"
      },
      "cell_type": "code",
      "source": [
        "savings_calculator(20000, 15, 0.1) == 635449.63"
      ],
      "execution_count": 5,
      "outputs": [
        {
          "output_type": "execute_result",
          "data": {
            "text/plain": [
              "True"
            ]
          },
          "metadata": {
            "tags": []
          },
          "execution_count": 5
        }
      ]
    },
    {
      "metadata": {
        "id": "CnbJ8HFakDM2",
        "colab_type": "code",
        "colab": {
          "base_uri": "https://localhost:8080/",
          "height": 34
        },
        "outputId": "dff24412-191b-41fa-abfb-259201e0a0b8"
      },
      "cell_type": "code",
      "source": [
        "savings_calculator(10000, 20, 0.1) == 572749.99"
      ],
      "execution_count": 6,
      "outputs": [
        {
          "output_type": "execute_result",
          "data": {
            "text/plain": [
              "True"
            ]
          },
          "metadata": {
            "tags": []
          },
          "execution_count": 6
        }
      ]
    },
    {
      "metadata": {
        "id": "42gFTL3qonAg",
        "colab_type": "text"
      },
      "cell_type": "markdown",
      "source": [
        "## Function 2:  Retirement Savings Calculator\n",
        "\n",
        "Build a function **`retirement_savings(PMT, i, start_age, end_age)`** that calculates your customer's savings at retirement, if they:\n",
        "- invest an amount, **`PMT`** at the end of every year (with the first payment made in exactly one year's time from now),\n",
        "- at an interest rate of **`i`**% per year, compounded annually.\n",
        "- They just turned **`start_age`** years old, and \n",
        "- they want to retire at the age of **`end_age`**\n",
        "\n",
        "<br><br>\n",
        "\n",
        "***IMPORTANT***: <br>\n",
        "Your function **may not call any of the other functions you've defined in this project** (i.e. you may not call `savings_calculator(PMT, n, i)` inside this function)\n",
        "\n",
        "You can assume that `start_age` < `end_age`, and both are positive integers."
      ]
    },
    {
      "metadata": {
        "id": "YJ4_S0poonAk",
        "colab_type": "code",
        "colab": {}
      },
      "cell_type": "code",
      "source": [
        "### START FUNCTION 2\n",
        "\n",
        "def retirement_savings(PMT, i, start_age, end_age):\n",
        "\n",
        "    # YOUR CODE HERE\n",
        "    age=end_age-start_age\n",
        "    FV=PMT*(((1+i)**(age)-1)/i)\n",
        "    # Remember to round your answer to 2 decimal places:\n",
        "    FV = round(FV, 2)\n",
        "\n",
        "    return FV\n",
        "\n",
        "### END FUNCTION 2"
      ],
      "execution_count": 0,
      "outputs": []
    },
    {
      "metadata": {
        "id": "DA0Ndo3qonAs",
        "colab_type": "text"
      },
      "cell_type": "markdown",
      "source": [
        "***IMPORTANT***: <br>\n",
        "Your function needs to **`return`** an `float` value ***rounded to 2 decimal places***.\n",
        "\n",
        "If your answer is not rounded correctly to 2 decimal places, you will receive 0 for the question.\n",
        "\n",
        "Make sure that the following tests all give a `True` result:"
      ]
    },
    {
      "metadata": {
        "id": "6hY4vbnXonAx",
        "colab_type": "code",
        "colab": {
          "base_uri": "https://localhost:8080/",
          "height": 34
        },
        "outputId": "f5d3007a-f4e7-42e7-d1de-2b0e3f155aa9"
      },
      "cell_type": "code",
      "source": [
        "retirement_savings(20000, 0.1, 20, 35) == 635449.63"
      ],
      "execution_count": 8,
      "outputs": [
        {
          "output_type": "execute_result",
          "data": {
            "text/plain": [
              "True"
            ]
          },
          "metadata": {
            "tags": []
          },
          "execution_count": 8
        }
      ]
    },
    {
      "metadata": {
        "id": "dhUN8TYQonA7",
        "colab_type": "code",
        "colab": {
          "base_uri": "https://localhost:8080/",
          "height": 34
        },
        "outputId": "1ef61412-2960-47e1-851d-59885ebc325d"
      },
      "cell_type": "code",
      "source": [
        "retirement_savings(10000, 0.1, 40, 60) == 572749.99"
      ],
      "execution_count": 9,
      "outputs": [
        {
          "output_type": "execute_result",
          "data": {
            "text/plain": [
              "True"
            ]
          },
          "metadata": {
            "tags": []
          },
          "execution_count": 9
        }
      ]
    },
    {
      "metadata": {
        "id": "mO1S--GUq1cz",
        "colab_type": "text"
      },
      "cell_type": "markdown",
      "source": [
        "## Function 3:  Retirement Age Calculator\n",
        "\n",
        "Build a function **`retirement_age(PMT, i, FV, start_age)`** that calculates the (whole) age at which your customer can retire, if they:\n",
        "- invest an amount, **`PMT`** at the END of every YEAR (with the first payment made exactly one year from now),\n",
        "- at an interest rate of **`i`**% per year, compounded annually.\n",
        "- They require an amount of AT LEAST **`FV`** in order to be able to afford retirement.\n",
        "- They just turned **`start_age`** years old.\n",
        "\n",
        "<br><br>\n",
        "\n",
        "***IMPORTANT***: <br>\n",
        "Your function **may not call any of the other functions you've defined in this project** (i.e. you may not call `savings_calculator(PMT, n, i)` or `retirement_savings(PMT, i, start_age, end_age)` inside this function)\n",
        "\n",
        "You can assume that `start_age` is a positive integer."
      ]
    },
    {
      "metadata": {
        "id": "28Y6c7hhq1c1",
        "colab_type": "code",
        "colab": {}
      },
      "cell_type": "code",
      "source": [
        "### START FUNCTION 3\n",
        "\n",
        "def retirement_age(PMT, i, FV, start_age):\n",
        "  \n",
        "    # YOUR CODE HERE\n",
        "    x=start_age+1\n",
        "    \n",
        "    age_diff=x-start_age\n",
        "    y=PMT*(((1+i)**(age_diff)-1)/i)\n",
        "    val_diff=FV-y\n",
        "   \n",
        "    while(round(val_diff, 2)>0):\n",
        "      x=x+1\n",
        "      age_diff=x-start_age\n",
        "      y=PMT*(((1+i)**(age_diff)-1)/i)\n",
        "      val_diff=FV-y\n",
        "      \n",
        "    age=x\n",
        "    return int(age)\n",
        "\n",
        "### END FUNCTION 3"
      ],
      "execution_count": 0,
      "outputs": []
    },
    {
      "metadata": {
        "id": "fuSjDPB1q1c6",
        "colab_type": "text"
      },
      "cell_type": "markdown",
      "source": [
        "***IMPORTANT***: <br>\n",
        "Your function needs to **`return`** an **`int`** value ***rounded to 2 decimal places***.\n",
        "\n",
        "If your answer is not rounded correctly to 2 decimal places, you will receive 0 for the question.\n",
        "\n",
        "Make sure that the following tests all give a `True` result:"
      ]
    },
    {
      "metadata": {
        "id": "OcdkNDw1r-ez",
        "colab_type": "code",
        "colab": {
          "base_uri": "https://localhost:8080/",
          "height": 34
        },
        "outputId": "a73184f2-50a3-4653-bb14-4c70b3b8f3ed"
      },
      "cell_type": "code",
      "source": [
        "retirement_age(20000, 0.1, 635339.63, 20) == 35"
      ],
      "execution_count": 11,
      "outputs": [
        {
          "output_type": "execute_result",
          "data": {
            "text/plain": [
              "True"
            ]
          },
          "metadata": {
            "tags": []
          },
          "execution_count": 11
        }
      ]
    },
    {
      "metadata": {
        "id": "5V1yJGkKse52",
        "colab_type": "code",
        "colab": {
          "base_uri": "https://localhost:8080/",
          "height": 34
        },
        "outputId": "611100e6-bf11-43ab-bd61-2eee8041b779"
      },
      "cell_type": "code",
      "source": [
        "retirement_age(10000, 0.1, 572749.99, 40) == 60"
      ],
      "execution_count": 12,
      "outputs": [
        {
          "output_type": "execute_result",
          "data": {
            "text/plain": [
              "True"
            ]
          },
          "metadata": {
            "tags": []
          },
          "execution_count": 12
        }
      ]
    },
    {
      "metadata": {
        "id": "fz7TNoNatBtv",
        "colab_type": "text"
      },
      "cell_type": "markdown",
      "source": [
        "## Function 4:  Home Loan Affordability Calculator\n",
        "\n",
        "Build a function **`maximum_home_loan(PMT, i, n)`** that calculates the maximum home loan that your customer can afford, if they:\n",
        "- can afford to pay an amount, **`PMT`** at the END of every YEAR (with the first payment made exactly one year from now),\n",
        "- at an interest rate of **`i`**% per year, compounded annually, and\n",
        "- pay off the home over a term of **`n`** years.\n",
        "\n",
        "<br><br>\n",
        "\n",
        "***IMPORTANT***: <br>\n",
        "Your function **may not call any of the other functions you've defined in this project** \n",
        "\n",
        "Calculate the loan as the **present value of the future down-payments on the loan, discounted at an interest rate of i% per year**. (Use the present value of an annuity formula, a.k.a. discounted cash flow valuation - https://www.investopedia.com/walkthrough/corporate-finance/3/discounted-cash-flow/introduction.aspx)"
      ]
    },
    {
      "metadata": {
        "id": "mnK7JpmEtBtx",
        "colab_type": "code",
        "colab": {}
      },
      "cell_type": "code",
      "source": [
        "### START FUNCTION 4\n",
        "\n",
        "def maximum_home_loan(PMT, i, n):\n",
        "\n",
        "    # YOUR CODE HERE\n",
        "    PV=PMT*(1- (1/(1+i)**n))/i\n",
        "    PV=round(PV, 2)\n",
        "\n",
        "    return PV\n",
        "\n",
        "\n",
        "### END FUNCTION 4"
      ],
      "execution_count": 0,
      "outputs": []
    },
    {
      "metadata": {
        "id": "JmHEOMGmtBt3",
        "colab_type": "text"
      },
      "cell_type": "markdown",
      "source": [
        "***IMPORTANT***: <br>\n",
        "Your function needs to **`return`** an `float` value ***correctly rounded to 2 decimal places***.\n",
        "\n",
        "If your answer is not rounded correctly to 2 decimal places, you will receive 0 for the question.\n",
        "\n",
        "Make sure that the following tests all give a `True` result:"
      ]
    },
    {
      "metadata": {
        "id": "Itfbe5dTtBt4",
        "colab_type": "code",
        "colab": {
          "base_uri": "https://localhost:8080/",
          "height": 34
        },
        "outputId": "53a550e6-02bc-45b0-c379-283547a949f2"
      },
      "cell_type": "code",
      "source": [
        "maximum_home_loan(15000*12, 0.1045, 30) == 1635153.79"
      ],
      "execution_count": 14,
      "outputs": [
        {
          "output_type": "execute_result",
          "data": {
            "text/plain": [
              "True"
            ]
          },
          "metadata": {
            "tags": []
          },
          "execution_count": 14
        }
      ]
    },
    {
      "metadata": {
        "id": "ET8esvX0tBuF",
        "colab_type": "code",
        "colab": {
          "base_uri": "https://localhost:8080/",
          "height": 34
        },
        "outputId": "6fa4a5da-d726-4c4d-9f85-b1b94b1be3fa"
      },
      "cell_type": "code",
      "source": [
        "maximum_home_loan(15000*12, 0.1045, 25) == 1578934.73"
      ],
      "execution_count": 15,
      "outputs": [
        {
          "output_type": "execute_result",
          "data": {
            "text/plain": [
              "True"
            ]
          },
          "metadata": {
            "tags": []
          },
          "execution_count": 15
        }
      ]
    },
    {
      "metadata": {
        "id": "syK8HzfTYMtg",
        "colab_type": "text"
      },
      "cell_type": "markdown",
      "source": [
        "## Function 5:  Home Loan Affordability Calculator\n",
        "\n",
        "Build a function **`maximum_home_loan_with_age(PMT, i, start_age)`** that calculates the maximum home loan that your customer can afford, if they:\n",
        "- can afford to pay an amount, **`PMT`** at the every year on their birthday (starting from their next birthday),\n",
        "- at an interest rate of **`i`**% per year, compounded annually, \n",
        "- they just turned **`n`** years old, and they\n",
        "- pay off the loan until they turn **`65 years old`**.  I.e. their last payment is on their 65th birthday.\n",
        "\n",
        "<br><br>\n",
        "\n",
        "***IMPORTANT***: <br>\n",
        "Your function **may not call any of the other functions you've defined in this project**.\n",
        "\n",
        "Assume that **`start_age`** is an `int` value, and **`start_age < 65`**.\n",
        "\n",
        "\n",
        "Just like in Function 4, calculate the loan as the **present value of the future down-payments on the loan, discounted at an interest rate of i% per year**. (Use the present value of an annuity formula, a.k.a. discounted cash flow valuation - https://www.investopedia.com/walkthrough/corporate-finance/3/discounted-cash-flow/introduction.aspx)"
      ]
    },
    {
      "metadata": {
        "id": "nI5bnhw_YMtm",
        "colab_type": "code",
        "colab": {}
      },
      "cell_type": "code",
      "source": [
        "### START FUNCTION 5\n",
        "\n",
        "def maximum_home_loan_with_age(PMT, i, start_age):\n",
        "  \n",
        "    # YOUR CODE HERE\n",
        "    total_present_value=PMT*(1- (1/(1+i)**((65-start_age))))/i\n",
        "    PV = round(total_present_value, 2)\n",
        "   \n",
        "    return PV\n",
        "\n",
        "### END FUNCTION 5"
      ],
      "execution_count": 0,
      "outputs": []
    },
    {
      "metadata": {
        "id": "VPyg4hufYMty",
        "colab_type": "text"
      },
      "cell_type": "markdown",
      "source": [
        "***IMPORTANT***: <br>\n",
        "Your function needs to **`return`** an `float` value ***correctly rounded to 2 decimal places***.\n",
        "\n",
        "If your answer is not rounded correctly to 2 decimal places, you will receive 0 for the question.\n",
        "\n",
        "Make sure that the following tests all give a `True` result:"
      ]
    },
    {
      "metadata": {
        "id": "I0zJEUcwYMt2",
        "colab_type": "code",
        "colab": {
          "base_uri": "https://localhost:8080/",
          "height": 34
        },
        "outputId": "5dc61dc1-da0d-47ce-e40b-93b358b77b9e"
      },
      "cell_type": "code",
      "source": [
        "maximum_home_loan_with_age(15000*12, 0.1045, 35)  == 1635153.79"
      ],
      "execution_count": 17,
      "outputs": [
        {
          "output_type": "execute_result",
          "data": {
            "text/plain": [
              "True"
            ]
          },
          "metadata": {
            "tags": []
          },
          "execution_count": 17
        }
      ]
    },
    {
      "metadata": {
        "id": "2ld9DE8dYMuE",
        "colab_type": "code",
        "colab": {
          "base_uri": "https://localhost:8080/",
          "height": 34
        },
        "outputId": "be028790-c69d-415b-839a-cc3864b671b5"
      },
      "cell_type": "code",
      "source": [
        "maximum_home_loan_with_age(15000*12, 0.1045, 40) == 1578934.73"
      ],
      "execution_count": 18,
      "outputs": [
        {
          "output_type": "execute_result",
          "data": {
            "text/plain": [
              "True"
            ]
          },
          "metadata": {
            "tags": []
          },
          "execution_count": 18
        }
      ]
    },
    {
      "metadata": {
        "id": "i_SzEp-rFlD4",
        "colab_type": "text"
      },
      "cell_type": "markdown",
      "source": [
        "## Function 6:  Loan Pay-Off Period Calculator\n",
        "\n",
        "Write a function **`pay_off_period(PV, PMT, i)`** that calculates the minimum number of years left until a loan is fully paid off, if:\n",
        "- the amount owned on the loan is currently equal to **`PV`**,\n",
        "- the loan is repaid at an amount, **`PMT`** at the END of every YEAR (with the first payment exactly 1 year from now),\n",
        "- at an interest rate of **`i`**% per year, compounded annually.\n",
        "\n",
        "<br><br>\n",
        "\n",
        "***IMPORTANT***: <br>\n",
        "Your function **may not call any of the other functions you've defined in this project**.\n",
        "\n",
        "\n",
        "Just like in Function 4 and 5, calculate the loan as the **present value of the future down-payments on the loan, discounted at an interest rate of i% per year**. (Use the present value of an annuity formula, a.k.a. discounted cash flow valuation - https://www.investopedia.com/walkthrough/corporate-finance/3/discounted-cash-flow/introduction.aspx)"
      ]
    },
    {
      "metadata": {
        "id": "Jm-0KH_1FlEA",
        "colab_type": "code",
        "colab": {}
      },
      "cell_type": "code",
      "source": [
        "### START FUNCTION 6\n",
        "\n",
        "def pay_off_period(PV, PMT, i):\n",
        "  \n",
        "    # YOUR CODE HERE\n",
        "    n=1\n",
        "    y=PMT*(1- (1/(1+i)**(n)))/i\n",
        "    diff=PV-round(y,2)\n",
        "   \n",
        "    while(diff>0):\n",
        "      n=n+1\n",
        "      y=PMT*(1- (1/(1+i)**(n)))/i\n",
        "      diff=PV-round(y,2)\n",
        "      \n",
        "    return int(n)\n",
        "\n",
        "### END FUNCTION 6"
      ],
      "execution_count": 0,
      "outputs": []
    },
    {
      "metadata": {
        "id": "zW9xzHH2FlEK",
        "colab_type": "text"
      },
      "cell_type": "markdown",
      "source": [
        "***IMPORTANT***: <br>\n",
        "Your function needs to **`return`** an **`int`**.\n",
        "\n",
        "Make sure that the following tests all give a `True` result:"
      ]
    },
    {
      "metadata": {
        "id": "ijilqZ-OFlEN",
        "colab_type": "code",
        "colab": {
          "base_uri": "https://localhost:8080/",
          "height": 34
        },
        "outputId": "a0c74e81-05cf-48c6-f45f-a526e982dedc"
      },
      "cell_type": "code",
      "source": [
        "pay_off_period(1635153, 15000*12, 0.1045) == 30"
      ],
      "execution_count": 20,
      "outputs": [
        {
          "output_type": "execute_result",
          "data": {
            "text/plain": [
              "True"
            ]
          },
          "metadata": {
            "tags": []
          },
          "execution_count": 20
        }
      ]
    },
    {
      "metadata": {
        "id": "XiU8DcpfFlEY",
        "colab_type": "code",
        "colab": {
          "base_uri": "https://localhost:8080/",
          "height": 34
        },
        "outputId": "5cab611d-0559-4d1f-da36-5f78f87818e7"
      },
      "cell_type": "code",
      "source": [
        "pay_off_period(1578934, 15000*12, 0.1045) == 25"
      ],
      "execution_count": 21,
      "outputs": [
        {
          "output_type": "execute_result",
          "data": {
            "text/plain": [
              "True"
            ]
          },
          "metadata": {
            "tags": []
          },
          "execution_count": 21
        }
      ]
    },
    {
      "metadata": {
        "id": "8HrDTdcsGJL0",
        "colab_type": "text"
      },
      "cell_type": "markdown",
      "source": [
        "## Function 7:  Investment Calculator\n",
        "\n",
        "Write a function **`investment(PMT, n, i)`** that calculates your customer's savings at some point in the future, if:\n",
        "- an amount  is invested at the END of every year, starting with amount of **`PMT`** at the end of this year,\n",
        "- at an interest rate of **`i`**% per year, compounded annually,\n",
        "- the investment amount **doubles every second year** (cumulatively).\n",
        "\n",
        "<br><br>\n",
        "\n",
        "***IMPORTANT***: <br>\n",
        "Your function **may not call any of the other functions you've defined in this project**."
      ]
    },
    {
      "metadata": {
        "id": "mCikydTGGJMI",
        "colab_type": "code",
        "colab": {}
      },
      "cell_type": "code",
      "source": [
        "### START FUNCTION 7\n",
        "\n",
        "def investment(PMT, n, i):\n",
        "  \n",
        "    # YOUR CODE HERE\n",
        "    investment_balance=(PMT*(1+(i/n))**(2*n))\n",
        "    return round(investment_balance, 2)\n",
        "\n",
        "### END FUNCTION 7"
      ],
      "execution_count": 0,
      "outputs": []
    },
    {
      "metadata": {
        "id": "d4Cm7kg0GJMV",
        "colab_type": "text"
      },
      "cell_type": "markdown",
      "source": [
        "***IMPORTANT***: <br>\n",
        "Your function needs to **`return`** an `float` value ***correctly rounded to 2 decimal places***.\n",
        "\n",
        "If your answer is not rounded correctly to 2 decimal places, you will receive 0 for the question.\n",
        "\n",
        "Make sure that the following tests all give a `True` result:"
      ]
    },
    {
      "metadata": {
        "id": "CpfHhDtrGJMZ",
        "colab_type": "code",
        "colab": {
          "base_uri": "https://localhost:8080/",
          "height": 34
        },
        "outputId": "a4bb19a8-9dad-4ee6-d6b8-27b34ce025c2"
      },
      "cell_type": "code",
      "source": [
        "investment(15000, 30, 0.1045) == 1954935238.47"
      ],
      "execution_count": 22,
      "outputs": [
        {
          "output_type": "execute_result",
          "data": {
            "text/plain": [
              "False"
            ]
          },
          "metadata": {
            "tags": []
          },
          "execution_count": 22
        }
      ]
    },
    {
      "metadata": {
        "id": "9UG1tJqCGJMj",
        "colab_type": "code",
        "colab": {
          "base_uri": "https://localhost:8080/",
          "height": 34
        },
        "outputId": "1c9c4dd2-b399-44c8-cc31-fa0c5ca5d5c4"
      },
      "cell_type": "code",
      "source": [
        "investment(10000, 40, 0.1045) == 41728281751.16"
      ],
      "execution_count": 23,
      "outputs": [
        {
          "output_type": "execute_result",
          "data": {
            "text/plain": [
              "False"
            ]
          },
          "metadata": {
            "tags": []
          },
          "execution_count": 23
        }
      ]
    },
    {
      "metadata": {
        "id": "J8FB4c0grwy_",
        "colab_type": "code",
        "colab": {}
      },
      "cell_type": "code",
      "source": [
        ""
      ],
      "execution_count": 0,
      "outputs": []
    }
  ]
}